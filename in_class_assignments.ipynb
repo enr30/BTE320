{
  "nbformat": 4,
  "nbformat_minor": 0,
  "metadata": {
    "colab": {
      "provenance": [],
      "authorship_tag": "ABX9TyPU+HPDDzvrq9WviMTFSk8g",
      "include_colab_link": true
    },
    "kernelspec": {
      "name": "python3",
      "display_name": "Python 3"
    },
    "language_info": {
      "name": "python"
    }
  },
  "cells": [
    {
      "cell_type": "markdown",
      "metadata": {
        "id": "view-in-github",
        "colab_type": "text"
      },
      "source": [
        "<a href=\"https://colab.research.google.com/github/enr30/BTE320/blob/main/in_class_assignments.ipynb\" target=\"_parent\"><img src=\"https://colab.research.google.com/assets/colab-badge.svg\" alt=\"Open In Colab\"/></a>"
      ]
    },
    {
      "cell_type": "code",
      "execution_count": 2,
      "metadata": {
        "colab": {
          "base_uri": "https://localhost:8080/"
        },
        "id": "UHyJhsJmdbdv",
        "outputId": "a5e10f76-95aa-47a7-b431-a2b3969a4feb"
      },
      "outputs": [
        {
          "output_type": "stream",
          "name": "stdout",
          "text": [
            "choose rock,paper,or scissorsrock\n",
            "choose rock,paper,or scissorsrock\n",
            "tie\n"
          ]
        }
      ],
      "source": [
        "p1=input('choose rock,paper,or scissors')\n",
        "p2=input('choose rock,paper,or scissors')\n",
        "\n",
        "if p1==p2:\n",
        "  print(\"tie\")\n",
        "elif p1=='rock' and p2=='paper':\n",
        "  print(\"p2 wins\")\n",
        "elif p1=='rock' and p2=='scissors':\n",
        "  print(\"p1 wins\")\n",
        "elif p1=='paper' and p2=='rock':\n",
        "  print(\"p1 wins\")\n",
        "elif p1=='paper' and p2=='scissors':\n",
        "  print(\"p2 wins\")\n",
        "elif p1=='scissors' and p2=='rock':\n",
        "  print(\"p2 wins\")\n",
        "elif p1=='scissors' and p2=='paper':\n",
        "  print(\"p1 wins\")\n",
        "\n"
      ]
    },
    {
      "cell_type": "code",
      "source": [
        "n1=float(input('choose number 1: '))\n",
        "n2=float(input('choose number 2: '))\n",
        "symbol = input('choose operator (+,-,*,/,or **): ')\n",
        "\n",
        "\n",
        "if symbol == '+':\n",
        "  print(n1+n2)\n",
        "elif symbol == '-':\n",
        "  print(n1-n2)\n",
        "elif symbol == '*':\n",
        "  print(n1*n2)\n",
        "elif symbol == '/':\n",
        "  print(n1/n2)\n",
        "else:\n",
        "  print(n1 ** n2)\n",
        "\n"
      ],
      "metadata": {
        "id": "Mj70ssAodk_5"
      },
      "execution_count": null,
      "outputs": []
    }
  ]
}